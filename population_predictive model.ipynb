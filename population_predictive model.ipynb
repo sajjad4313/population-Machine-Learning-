{
 "cells": [
  {
   "cell_type": "code",
   "execution_count": 1,
   "id": "190c7e25",
   "metadata": {},
   "outputs": [],
   "source": [
    "import numpy as np\n",
    "import pandas as pd\n",
    "import seaborn as sns\n",
    "from sklearn.model_selection import train_test_split\n",
    "from sklearn.linear_model import LinearRegression\n",
    "import matplotlib.pyplot as plt\n",
    "get_ipython().run_line_magic('matplotlib', 'inline')"
   ]
  },
  {
   "cell_type": "code",
   "execution_count": 2,
   "id": "eed5894f",
   "metadata": {},
   "outputs": [
    {
     "data": {
      "text/html": [
       "<div>\n",
       "<style scoped>\n",
       "    .dataframe tbody tr th:only-of-type {\n",
       "        vertical-align: middle;\n",
       "    }\n",
       "\n",
       "    .dataframe tbody tr th {\n",
       "        vertical-align: top;\n",
       "    }\n",
       "\n",
       "    .dataframe thead th {\n",
       "        text-align: right;\n",
       "    }\n",
       "</style>\n",
       "<table border=\"1\" class=\"dataframe\">\n",
       "  <thead>\n",
       "    <tr style=\"text-align: right;\">\n",
       "      <th></th>\n",
       "      <th>Rank</th>\n",
       "      <th>Country</th>\n",
       "      <th>Population2023</th>\n",
       "      <th>YearlyChange</th>\n",
       "      <th>NetChange</th>\n",
       "      <th>Density(P/Km²)</th>\n",
       "      <th>Land Area(Km²)</th>\n",
       "      <th>Migrants(net)</th>\n",
       "      <th>Fert.Rate</th>\n",
       "      <th>MedianAge</th>\n",
       "      <th>UrbanPop%</th>\n",
       "      <th>WorldShare</th>\n",
       "    </tr>\n",
       "  </thead>\n",
       "  <tbody>\n",
       "    <tr>\n",
       "      <th>0</th>\n",
       "      <td>36</td>\n",
       "      <td>Afghanistan</td>\n",
       "      <td>42239854</td>\n",
       "      <td>2.70 %</td>\n",
       "      <td>1111083</td>\n",
       "      <td>65</td>\n",
       "      <td>652860</td>\n",
       "      <td>-65846</td>\n",
       "      <td>4.4</td>\n",
       "      <td>17.0</td>\n",
       "      <td>26 %</td>\n",
       "      <td>0.53 %</td>\n",
       "    </tr>\n",
       "    <tr>\n",
       "      <th>1</th>\n",
       "      <td>138</td>\n",
       "      <td>Albania</td>\n",
       "      <td>2832439</td>\n",
       "      <td>-0.35 %</td>\n",
       "      <td>-9882</td>\n",
       "      <td>103</td>\n",
       "      <td>27400</td>\n",
       "      <td>-8000</td>\n",
       "      <td>1.4</td>\n",
       "      <td>38.0</td>\n",
       "      <td>67 %</td>\n",
       "      <td>0.04 %</td>\n",
       "    </tr>\n",
       "    <tr>\n",
       "      <th>2</th>\n",
       "      <td>34</td>\n",
       "      <td>Algeria</td>\n",
       "      <td>45606480</td>\n",
       "      <td>1.57 %</td>\n",
       "      <td>703255</td>\n",
       "      <td>19</td>\n",
       "      <td>2381740</td>\n",
       "      <td>-9999</td>\n",
       "      <td>2.8</td>\n",
       "      <td>28.0</td>\n",
       "      <td>75 %</td>\n",
       "      <td>0.57 %</td>\n",
       "    </tr>\n",
       "    <tr>\n",
       "      <th>3</th>\n",
       "      <td>212</td>\n",
       "      <td>American Samoa</td>\n",
       "      <td>43914</td>\n",
       "      <td>-0.81 %</td>\n",
       "      <td>-359</td>\n",
       "      <td>220</td>\n",
       "      <td>200</td>\n",
       "      <td>-790</td>\n",
       "      <td>2.2</td>\n",
       "      <td>29.0</td>\n",
       "      <td>N.A.</td>\n",
       "      <td>0.00 %</td>\n",
       "    </tr>\n",
       "    <tr>\n",
       "      <th>4</th>\n",
       "      <td>202</td>\n",
       "      <td>Andorra</td>\n",
       "      <td>80088</td>\n",
       "      <td>0.33 %</td>\n",
       "      <td>264</td>\n",
       "      <td>170</td>\n",
       "      <td>470</td>\n",
       "      <td>200</td>\n",
       "      <td>1.1</td>\n",
       "      <td>43.0</td>\n",
       "      <td>85 %</td>\n",
       "      <td>0.00 %</td>\n",
       "    </tr>\n",
       "  </tbody>\n",
       "</table>\n",
       "</div>"
      ],
      "text/plain": [
       "   Rank         Country  Population2023 YearlyChange  NetChange  \\\n",
       "0    36     Afghanistan        42239854       2.70 %    1111083   \n",
       "1   138         Albania         2832439      -0.35 %      -9882   \n",
       "2    34         Algeria        45606480       1.57 %     703255   \n",
       "3   212  American Samoa           43914      -0.81 %       -359   \n",
       "4   202         Andorra           80088       0.33 %        264   \n",
       "\n",
       "   Density(P/Km²)  Land Area(Km²)  Migrants(net)  Fert.Rate  MedianAge  \\\n",
       "0              65          652860         -65846        4.4       17.0   \n",
       "1             103           27400          -8000        1.4       38.0   \n",
       "2              19         2381740          -9999        2.8       28.0   \n",
       "3             220             200           -790        2.2       29.0   \n",
       "4             170             470            200        1.1       43.0   \n",
       "\n",
       "  UrbanPop% WorldShare  \n",
       "0      26 %     0.53 %  \n",
       "1      67 %     0.04 %  \n",
       "2      75 %     0.57 %  \n",
       "3      N.A.     0.00 %  \n",
       "4      85 %     0.00 %  "
      ]
     },
     "execution_count": 2,
     "metadata": {},
     "output_type": "execute_result"
    }
   ],
   "source": [
    "df=pd.read_csv('WorldPopulation2023.csv')\n",
    "df.head()"
   ]
  },
  {
   "cell_type": "code",
   "execution_count": 3,
   "id": "874cb1fc",
   "metadata": {},
   "outputs": [
    {
     "data": {
      "text/plain": [
       "Rank              0\n",
       "Country           0\n",
       "Population2023    0\n",
       "YearlyChange      0\n",
       "NetChange         0\n",
       "Density(P/Km²)    0\n",
       "Land Area(Km²)    0\n",
       "Migrants(net)     0\n",
       "Fert.Rate         1\n",
       "MedianAge         1\n",
       "UrbanPop%         0\n",
       "WorldShare        0\n",
       "dtype: int64"
      ]
     },
     "execution_count": 3,
     "metadata": {},
     "output_type": "execute_result"
    }
   ],
   "source": [
    "df.isnull().sum()"
   ]
  },
  {
   "cell_type": "code",
   "execution_count": 4,
   "id": "6e931d1a",
   "metadata": {},
   "outputs": [
    {
     "name": "stdout",
     "output_type": "stream",
     "text": [
      "<class 'pandas.core.frame.DataFrame'>\n",
      "RangeIndex: 234 entries, 0 to 233\n",
      "Data columns (total 12 columns):\n",
      " #   Column          Non-Null Count  Dtype  \n",
      "---  ------          --------------  -----  \n",
      " 0   Rank            234 non-null    int64  \n",
      " 1   Country         234 non-null    object \n",
      " 2   Population2023  234 non-null    int64  \n",
      " 3   YearlyChange    234 non-null    object \n",
      " 4   NetChange       234 non-null    int64  \n",
      " 5   Density(P/Km²)  234 non-null    int64  \n",
      " 6   Land Area(Km²)  234 non-null    int64  \n",
      " 7   Migrants(net)   234 non-null    int64  \n",
      " 8   Fert.Rate       233 non-null    float64\n",
      " 9   MedianAge       233 non-null    float64\n",
      " 10  UrbanPop%       234 non-null    object \n",
      " 11  WorldShare      234 non-null    object \n",
      "dtypes: float64(2), int64(6), object(4)\n",
      "memory usage: 22.1+ KB\n"
     ]
    }
   ],
   "source": [
    "df.info()"
   ]
  },
  {
   "cell_type": "code",
   "execution_count": 5,
   "id": "e6ab8fc7",
   "metadata": {},
   "outputs": [],
   "source": [
    "df['Fert.Rate'].fillna(df['Fert.Rate'].mean(),inplace=True)"
   ]
  },
  {
   "cell_type": "code",
   "execution_count": 6,
   "id": "2b057d08",
   "metadata": {},
   "outputs": [
    {
     "data": {
      "text/plain": [
       "Rank              0\n",
       "Country           0\n",
       "Population2023    0\n",
       "YearlyChange      0\n",
       "NetChange         0\n",
       "Density(P/Km²)    0\n",
       "Land Area(Km²)    0\n",
       "Migrants(net)     0\n",
       "Fert.Rate         0\n",
       "MedianAge         1\n",
       "UrbanPop%         0\n",
       "WorldShare        0\n",
       "dtype: int64"
      ]
     },
     "execution_count": 6,
     "metadata": {},
     "output_type": "execute_result"
    }
   ],
   "source": [
    "df.isnull().sum()"
   ]
  },
  {
   "cell_type": "code",
   "execution_count": 7,
   "id": "6d3b7772",
   "metadata": {},
   "outputs": [],
   "source": [
    "df=df.dropna()"
   ]
  },
  {
   "cell_type": "code",
   "execution_count": 8,
   "id": "2827e473",
   "metadata": {},
   "outputs": [
    {
     "data": {
      "text/plain": [
       "Rank              0\n",
       "Country           0\n",
       "Population2023    0\n",
       "YearlyChange      0\n",
       "NetChange         0\n",
       "Density(P/Km²)    0\n",
       "Land Area(Km²)    0\n",
       "Migrants(net)     0\n",
       "Fert.Rate         0\n",
       "MedianAge         0\n",
       "UrbanPop%         0\n",
       "WorldShare        0\n",
       "dtype: int64"
      ]
     },
     "execution_count": 8,
     "metadata": {},
     "output_type": "execute_result"
    }
   ],
   "source": [
    "df.isnull().sum()"
   ]
  },
  {
   "cell_type": "code",
   "execution_count": 9,
   "id": "4a040ce9",
   "metadata": {},
   "outputs": [
    {
     "data": {
      "text/plain": [
       "(233, 12)"
      ]
     },
     "execution_count": 9,
     "metadata": {},
     "output_type": "execute_result"
    }
   ],
   "source": [
    "df.shape"
   ]
  },
  {
   "cell_type": "code",
   "execution_count": 10,
   "id": "acf927e0",
   "metadata": {},
   "outputs": [
    {
     "data": {
      "text/plain": [
       "array(['26 ', '67 ', '75 ', 'N.A.', '85 ', '68 ', '98 ', '28 ', '94 ',\n",
       "       '67 ', '45 ', '86 ', '59 ', '57 ', '85 ', 'N.A.', '41 ', '32 ',\n",
       "       '80 ', '99 ', '48 ', '48 ', '94 ', '49 ', '69 ', '54 ', '69 ',\n",
       "       '88 ', '53 ', '80 ', '78 ', '32 ', '15 ', '67 ', '26 ', '58 ',\n",
       "       '81 ', '74 ', '95 ', '40 ', '24 ', '85 ', '65 ', '81 ', '33 ',\n",
       "       '70 ', '79 ', '82 ', '59 ', '80 ', '77 ', '65 ', '75 ', '52 ',\n",
       "       '88 ', '72 ', '75 ', '85 ', '46 ', '64 ', '41 ', '78 ', '67 ',\n",
       "       '67 ', '68 ', '31 ', '22 ', '41 ', '62 ', '59 ', '87 ', '84 ',\n",
       "       '90 ', '59 ', '85 ', '58 ', '63 ', '77 ', '57 ', 'N.A.', '86 ',\n",
       "       '89 ', '32 ', 'N.A.', '95 ', '55 ', '40 ', '45 ', '27 ', '60 ',\n",
       "       '58 ', 'N.A.', '68 ', '88 ', '36 ', '59 ', '74 ', '71 ', '64 ',\n",
       "       '55 ', '92 ', '72 ', '59 ', '94 ', '85 ', '57 ', '31 ', '56 ',\n",
       "       'N.A.', '37 ', '37 ', '69 ', '97 ', '31 ', '54 ', '82 ', '15 ',\n",
       "       '71 ', '88 ', '97 ', '40 ', '19 ', '78 ', '39 ', '44 ', '78 ',\n",
       "       'N.A.', '94 ', '61 ', '40 ', '40 ', '88 ', '71 ', '50 ', 'N.A.',\n",
       "       '67 ', '69 ', '11 ', '66 ', '40 ', '33 ', '60 ', '88 ', '22 ',\n",
       "       '92 ', '74 ', '82 ', '56 ', '17 ', '54 ', '41 ', '63 ', '60 ',\n",
       "       'N.A.', '86 ', 'N.A.', '35 ', 'N.A.', '70 ', '12 ', '67 ', '79 ',\n",
       "       '47 ', '55 ', '67 ', 'N.A.', 'N.A.', '53 ', '75 ', '18 ', '93 ',\n",
       "       '0 ', '32 ', '38 ', '19 ', '0 ', 'N.A.', '16 ', '99 ', '77 ',\n",
       "       '83 ', '52 ', '69 ', '53 ', '43 ', 'N.A.', '97 ', '51 ', '55 ',\n",
       "       '24 ', '46 ', '69 ', '82 ', '28 ', '80 ', '19 ', '58 ', '83 ',\n",
       "       '35 ', '63 ', '86 ', '75 ', '53 ', '80 ', '28 ', '38 ', '52 ',\n",
       "       '35 ', '44 ', '0 ', '24 ', '48 ', '69 ', '77 ', '52 ', '79 ',\n",
       "       '69 ', 'N.A.', '29 ', '82 ', '94 ', '85 ', '83 ', '99 ', '49 ',\n",
       "       '24 ', 'N.A.', '40 ', '0 ', '95 ', '37 ', '46 ', '37 '],\n",
       "      dtype=object)"
      ]
     },
     "execution_count": 10,
     "metadata": {},
     "output_type": "execute_result"
    }
   ],
   "source": [
    "x=df['UrbanPop%'].str.split(\"%\")\n",
    "df['UrbanPop%']=x.str[0]\n",
    "df['UrbanPop%'].values"
   ]
  },
  {
   "cell_type": "code",
   "execution_count": 11,
   "id": "d95d5b3a",
   "metadata": {
    "scrolled": false
   },
   "outputs": [
    {
     "data": {
      "text/plain": [
       "array(['0.53 ', '0.04 ', '0.57 ', '0.00 ', '0.00 ', '0.46 ', '0.00 ',\n",
       "       '0.00 ', '0.57 ', '0.03 ', '0.00 ', '0.33 ', '0.11 ', '0.13 ',\n",
       "       '0.01 ', '0.02 ', '2.15 ', '0.00 ', '0.12 ', '0.15 ', '0.01 ',\n",
       "       '0.17 ', '0.00 ', '0.01 ', '0.15 ', '0.04 ', '0.03 ', '2.69 ',\n",
       "       '0.00 ', '0.01 ', '0.08 ', '0.29 ', '0.16 ', '0.01 ', '0.21 ',\n",
       "       '0.36 ', '0.48 ', '0.00 ', '0.00 ', '0.07 ', '0.23 ', '0.24 ',\n",
       "       '17.72 ', '0.65 ', '0.01 ', '0.08 ', '0.00 ', '0.06 ', '0.05 ',\n",
       "       '0.14 ', '0.00 ', '0.02 ', '0.13 ', '0.36 ', '0.07 ', '0.01 ',\n",
       "       '0.00 ', '0.14 ', '1.27 ', '0.23 ', '1.40 ', '0.08 ', '0.02 ',\n",
       "       '0.05 ', '0.02 ', '0.02 ', '1.57 ', '0.00 ', '0.00 ', '0.01 ',\n",
       "       '0.07 ', '0.80 ', '0.00 ', '0.00 ', '0.03 ', '0.03 ', '0.05 ',\n",
       "       '1.04 ', '0.42 ', '0.00 ', '0.13 ', '0.00 ', '0.00 ', '0.00 ',\n",
       "       '0.00 ', '0.22 ', '0.18 ', '0.03 ', '0.01 ', '0.15 ', '0.13 ',\n",
       "       '0.09 ', '0.13 ', '0.00 ', '17.76 ', '3.45 ', '1.11 ', '0.57 ',\n",
       "       '0.06 ', '0.00 ', '0.11 ', '0.73 ', '0.04 ', '1.53 ', '0.14 ',\n",
       "       '0.24 ', '0.68 ', '0.00 ', '0.05 ', '0.08 ', '0.09 ', '0.02 ',\n",
       "       '0.07 ', '0.03 ', '0.07 ', '0.09 ', '0.00 ', '0.03 ', '0.01 ',\n",
       "       '0.01 ', '0.38 ', '0.26 ', '0.43 ', '0.01 ', '0.29 ', '0.01 ',\n",
       "       '0.00 ', '0.00 ', '0.06 ', '0.02 ', '0.00 ', '1.60 ', '0.01 ',\n",
       "       '0.04 ', '0.00 ', '0.04 ', '0.01 ', '0.00 ', '0.47 ', '0.42 ',\n",
       "       '0.68 ', '0.03 ', '0.00 ', '0.38 ', '0.22 ', '0.00 ', '0.06 ',\n",
       "       '0.09 ', '0.34 ', '2.78 ', '0.00 ', '0.33 ', '0.03 ', '0.00 ',\n",
       "       '0.07 ', '0.06 ', '2.99 ', '0.00 ', '0.06 ', '0.13 ', '0.09 ',\n",
       "       '0.43 ', '1.46 ', '0.51 ', '0.13 ', '0.04 ', '0.03 ', '0.25 ',\n",
       "       '1.80 ', '0.18 ', '0.01 ', '0.00 ', '0.00 ', '0.00 ', '0.00 ',\n",
       "       '0.00 ', '0.00 ', '0.00 ', '0.00 ', '0.00 ', '0.46 ', '0.22 ',\n",
       "       '0.09 ', '0.00 ', '0.11 ', '0.07 ', '0.00 ', '0.07 ', '0.03 ',\n",
       "       '0.01 ', '0.23 ', '0.75 ', '0.64 ', '0.14 ', '0.59 ', '0.27 ',\n",
       "       '0.00 ', '0.07 ', '0.60 ', '0.01 ', '0.13 ', '0.11 ', '0.29 ',\n",
       "       '0.30 ', '0.13 ', '0.84 ', '0.89 ', '0.02 ', '0.11 ', '0.00 ',\n",
       "       '0.00 ', '0.02 ', '0.15 ', '1.07 ', '0.08 ', '0.00 ', '0.00 ',\n",
       "       '0.00 ', '0.60 ', '0.46 ', '0.12 ', '0.84 ', '4.23 ', '0.04 ',\n",
       "       '0.44 ', '0.00 ', '0.36 ', '1.23 ', '0.00 ', '0.01 ', '0.43 ',\n",
       "       '0.26 ', '0.21 '], dtype=object)"
      ]
     },
     "execution_count": 11,
     "metadata": {},
     "output_type": "execute_result"
    }
   ],
   "source": [
    "x=df['WorldShare'].str.split(\"%\")\n",
    "df['WorldShare']=x.str[0]\n",
    "df['WorldShare'].values"
   ]
  },
  {
   "cell_type": "code",
   "execution_count": null,
   "id": "d55ff3c0",
   "metadata": {
    "scrolled": true
   },
   "outputs": [],
   "source": [
    "\n"
   ]
  },
  {
   "cell_type": "code",
   "execution_count": 12,
   "id": "e433a40c",
   "metadata": {},
   "outputs": [
    {
     "data": {
      "text/html": [
       "<div>\n",
       "<style scoped>\n",
       "    .dataframe tbody tr th:only-of-type {\n",
       "        vertical-align: middle;\n",
       "    }\n",
       "\n",
       "    .dataframe tbody tr th {\n",
       "        vertical-align: top;\n",
       "    }\n",
       "\n",
       "    .dataframe thead th {\n",
       "        text-align: right;\n",
       "    }\n",
       "</style>\n",
       "<table border=\"1\" class=\"dataframe\">\n",
       "  <thead>\n",
       "    <tr style=\"text-align: right;\">\n",
       "      <th></th>\n",
       "      <th>Rank</th>\n",
       "      <th>Population2023</th>\n",
       "      <th>NetChange</th>\n",
       "      <th>Density(P/Km²)</th>\n",
       "      <th>Land Area(Km²)</th>\n",
       "      <th>Migrants(net)</th>\n",
       "      <th>Fert.Rate</th>\n",
       "      <th>MedianAge</th>\n",
       "    </tr>\n",
       "  </thead>\n",
       "  <tbody>\n",
       "    <tr>\n",
       "      <th>count</th>\n",
       "      <td>233.000000</td>\n",
       "      <td>2.330000e+02</td>\n",
       "      <td>2.330000e+02</td>\n",
       "      <td>233.000000</td>\n",
       "      <td>2.330000e+02</td>\n",
       "      <td>2.330000e+02</td>\n",
       "      <td>233.000000</td>\n",
       "      <td>233.000000</td>\n",
       "    </tr>\n",
       "    <tr>\n",
       "      <th>mean</th>\n",
       "      <td>117.000000</td>\n",
       "      <td>3.452318e+07</td>\n",
       "      <td>3.013107e+05</td>\n",
       "      <td>473.905579</td>\n",
       "      <td>5.583429e+05</td>\n",
       "      <td>1.306867e+01</td>\n",
       "      <td>2.414163</td>\n",
       "      <td>31.309013</td>\n",
       "    </tr>\n",
       "    <tr>\n",
       "      <th>std</th>\n",
       "      <td>67.405489</td>\n",
       "      <td>1.376633e+08</td>\n",
       "      <td>1.003778e+06</td>\n",
       "      <td>2325.067631</td>\n",
       "      <td>1.694269e+06</td>\n",
       "      <td>1.701990e+05</td>\n",
       "      <td>1.155913</td>\n",
       "      <td>9.628386</td>\n",
       "    </tr>\n",
       "    <tr>\n",
       "      <th>min</th>\n",
       "      <td>1.000000</td>\n",
       "      <td>1.893000e+03</td>\n",
       "      <td>-2.957105e+06</td>\n",
       "      <td>0.000000</td>\n",
       "      <td>1.000000e+00</td>\n",
       "      <td>-9.104750e+05</td>\n",
       "      <td>0.800000</td>\n",
       "      <td>15.000000</td>\n",
       "    </tr>\n",
       "    <tr>\n",
       "      <th>25%</th>\n",
       "      <td>59.000000</td>\n",
       "      <td>5.210210e+05</td>\n",
       "      <td>2.450000e+02</td>\n",
       "      <td>38.000000</td>\n",
       "      <td>2.830000e+03</td>\n",
       "      <td>-9.999000e+03</td>\n",
       "      <td>1.600000</td>\n",
       "      <td>22.000000</td>\n",
       "    </tr>\n",
       "    <tr>\n",
       "      <th>50%</th>\n",
       "      <td>117.000000</td>\n",
       "      <td>5.742315e+06</td>\n",
       "      <td>2.865200e+04</td>\n",
       "      <td>96.000000</td>\n",
       "      <td>8.220000e+04</td>\n",
       "      <td>-5.000000e+02</td>\n",
       "      <td>2.000000</td>\n",
       "      <td>32.000000</td>\n",
       "    </tr>\n",
       "    <tr>\n",
       "      <th>75%</th>\n",
       "      <td>175.000000</td>\n",
       "      <td>2.325148e+07</td>\n",
       "      <td>2.278660e+05</td>\n",
       "      <td>242.000000</td>\n",
       "      <td>4.103400e+05</td>\n",
       "      <td>5.000000e+02</td>\n",
       "      <td>3.000000</td>\n",
       "      <td>40.000000</td>\n",
       "    </tr>\n",
       "    <tr>\n",
       "      <th>max</th>\n",
       "      <td>233.000000</td>\n",
       "      <td>1.428628e+09</td>\n",
       "      <td>1.145449e+07</td>\n",
       "      <td>24360.000000</td>\n",
       "      <td>1.637687e+07</td>\n",
       "      <td>1.784718e+06</td>\n",
       "      <td>6.700000</td>\n",
       "      <td>54.000000</td>\n",
       "    </tr>\n",
       "  </tbody>\n",
       "</table>\n",
       "</div>"
      ],
      "text/plain": [
       "             Rank  Population2023     NetChange  Density(P/Km²)  \\\n",
       "count  233.000000    2.330000e+02  2.330000e+02      233.000000   \n",
       "mean   117.000000    3.452318e+07  3.013107e+05      473.905579   \n",
       "std     67.405489    1.376633e+08  1.003778e+06     2325.067631   \n",
       "min      1.000000    1.893000e+03 -2.957105e+06        0.000000   \n",
       "25%     59.000000    5.210210e+05  2.450000e+02       38.000000   \n",
       "50%    117.000000    5.742315e+06  2.865200e+04       96.000000   \n",
       "75%    175.000000    2.325148e+07  2.278660e+05      242.000000   \n",
       "max    233.000000    1.428628e+09  1.145449e+07    24360.000000   \n",
       "\n",
       "       Land Area(Km²)  Migrants(net)   Fert.Rate   MedianAge  \n",
       "count    2.330000e+02   2.330000e+02  233.000000  233.000000  \n",
       "mean     5.583429e+05   1.306867e+01    2.414163   31.309013  \n",
       "std      1.694269e+06   1.701990e+05    1.155913    9.628386  \n",
       "min      1.000000e+00  -9.104750e+05    0.800000   15.000000  \n",
       "25%      2.830000e+03  -9.999000e+03    1.600000   22.000000  \n",
       "50%      8.220000e+04  -5.000000e+02    2.000000   32.000000  \n",
       "75%      4.103400e+05   5.000000e+02    3.000000   40.000000  \n",
       "max      1.637687e+07   1.784718e+06    6.700000   54.000000  "
      ]
     },
     "execution_count": 12,
     "metadata": {},
     "output_type": "execute_result"
    }
   ],
   "source": [
    "df.describe()"
   ]
  },
  {
   "cell_type": "code",
   "execution_count": null,
   "id": "e5600edc",
   "metadata": {},
   "outputs": [],
   "source": []
  },
  {
   "cell_type": "code",
   "execution_count": null,
   "id": "4dfe80c1",
   "metadata": {
    "scrolled": true
   },
   "outputs": [],
   "source": []
  },
  {
   "cell_type": "code",
   "execution_count": null,
   "id": "ca4f891e",
   "metadata": {},
   "outputs": [],
   "source": []
  },
  {
   "cell_type": "code",
   "execution_count": 13,
   "id": "13400785",
   "metadata": {},
   "outputs": [],
   "source": [
    "df['WorldShare']=df['WorldShare'].astype(float)\n"
   ]
  },
  {
   "cell_type": "code",
   "execution_count": null,
   "id": "e7b17fe9",
   "metadata": {},
   "outputs": [],
   "source": []
  },
  {
   "cell_type": "code",
   "execution_count": null,
   "id": "417943e2",
   "metadata": {},
   "outputs": [],
   "source": [
    "\n"
   ]
  },
  {
   "cell_type": "code",
   "execution_count": 14,
   "id": "d3dbe3ee",
   "metadata": {},
   "outputs": [],
   "source": [
    "df.drop('Country',axis=1,inplace=True)\n",
    "df.drop('YearlyChange',axis=1,inplace=True)"
   ]
  },
  {
   "cell_type": "code",
   "execution_count": 15,
   "id": "57f6ee31",
   "metadata": {},
   "outputs": [
    {
     "name": "stdout",
     "output_type": "stream",
     "text": [
      "<class 'pandas.core.frame.DataFrame'>\n",
      "Index: 233 entries, 0 to 233\n",
      "Data columns (total 10 columns):\n",
      " #   Column          Non-Null Count  Dtype  \n",
      "---  ------          --------------  -----  \n",
      " 0   Rank            233 non-null    int64  \n",
      " 1   Population2023  233 non-null    int64  \n",
      " 2   NetChange       233 non-null    int64  \n",
      " 3   Density(P/Km²)  233 non-null    int64  \n",
      " 4   Land Area(Km²)  233 non-null    int64  \n",
      " 5   Migrants(net)   233 non-null    int64  \n",
      " 6   Fert.Rate       233 non-null    float64\n",
      " 7   MedianAge       233 non-null    float64\n",
      " 8   UrbanPop%       233 non-null    object \n",
      " 9   WorldShare      233 non-null    float64\n",
      "dtypes: float64(3), int64(6), object(1)\n",
      "memory usage: 20.0+ KB\n"
     ]
    }
   ],
   "source": [
    "df.info()"
   ]
  },
  {
   "cell_type": "code",
   "execution_count": null,
   "id": "2a128cba",
   "metadata": {},
   "outputs": [],
   "source": [
    "sns.boxplot()"
   ]
  },
  {
   "cell_type": "code",
   "execution_count": null,
   "id": "2d0967f3",
   "metadata": {
    "scrolled": true
   },
   "outputs": [],
   "source": []
  },
  {
   "cell_type": "code",
   "execution_count": 16,
   "id": "afeeeede",
   "metadata": {},
   "outputs": [
    {
     "data": {
      "text/plain": [
       "0.620983609549096"
      ]
     },
     "execution_count": 16,
     "metadata": {},
     "output_type": "execute_result"
    }
   ],
   "source": [
    "corelation=df['Population2023'].corr(df['NetChange'])\n",
    "corelation"
   ]
  },
  {
   "cell_type": "code",
   "execution_count": 17,
   "id": "d5b7dd93",
   "metadata": {},
   "outputs": [
    {
     "data": {
      "text/plain": [
       "<Axes: xlabel='Population2023', ylabel='NetChange'>"
      ]
     },
     "execution_count": 17,
     "metadata": {},
     "output_type": "execute_result"
    },
    {
     "data": {
      "image/png": "[encoded data removed]",
      "text/plain": [
       "<Figure size 640x480 with 1 Axes>"
      ]
     },
     "metadata": {},
     "output_type": "display_data"
    }
   ],
   "source": [
    "sns.regplot(x=df['Population2023'],y=df['NetChange'],data=df)"
   ]
  },
  {
   "cell_type": "code",
   "execution_count": 18,
   "id": "cebec6e9",
   "metadata": {
    "scrolled": true
   },
   "outputs": [
    {
     "data": {
      "text/plain": [
       "0.4515702230663885"
      ]
     },
     "execution_count": 18,
     "metadata": {},
     "output_type": "execute_result"
    }
   ],
   "source": [
    "corelation=df['Population2023'].corr(df['Land Area(Km²)'])\n",
    "corelation"
   ]
  },
  {
   "cell_type": "code",
   "execution_count": 19,
   "id": "a0b6614f",
   "metadata": {},
   "outputs": [
    {
     "data": {
      "text/plain": [
       "<Axes: xlabel='Population2023', ylabel='Land Area(Km²)'>"
      ]
     },
     "execution_count": 19,
     "metadata": {},
     "output_type": "execute_result"
    },
    {
     "data": {
      "image/png": "[encoded data removed]",
      "text/plain": [
       "<Figure size 640x480 with 1 Axes>"
      ]
     },
     "metadata": {},
     "output_type": "display_data"
    }
   ],
   "source": [
    "sns.regplot(x=df['Population2023'],y=df['Land Area(Km²)'],data=df)"
   ]
  },
  {
   "cell_type": "code",
   "execution_count": 20,
   "id": "376b15cd",
   "metadata": {},
   "outputs": [
    {
     "data": {
      "text/plain": [
       "0.9999986965817584"
      ]
     },
     "execution_count": 20,
     "metadata": {},
     "output_type": "execute_result"
    }
   ],
   "source": [
    "corelation=df['Population2023'].corr(df['WorldShare'])\n",
    "corelation"
   ]
  },
  {
   "cell_type": "code",
   "execution_count": 21,
   "id": "0dd96858",
   "metadata": {},
   "outputs": [
    {
     "data": {
      "text/plain": [
       "<Axes: xlabel='Population2023', ylabel='WorldShare'>"
      ]
     },
     "execution_count": 21,
     "metadata": {},
     "output_type": "execute_result"
    },
    {
     "data": {
      "image/png": "[encoded data removed]",
      "text/plain": [
       "<Figure size 640x480 with 1 Axes>"
      ]
     },
     "metadata": {},
     "output_type": "display_data"
    }
   ],
   "source": [
    "sns.regplot(x=df['Population2023'],y=df['WorldShare'],data=df)"
   ]
  },
  {
   "cell_type": "code",
   "execution_count": 22,
   "id": "e15c30fe",
   "metadata": {},
   "outputs": [
    {
     "data": {
      "text/plain": [
       "0.4517200464625122"
      ]
     },
     "execution_count": 22,
     "metadata": {},
     "output_type": "execute_result"
    }
   ],
   "source": [
    "corelation=df['Land Area(Km²)'].corr(df['WorldShare'])\n",
    "corelation"
   ]
  },
  {
   "cell_type": "code",
   "execution_count": 23,
   "id": "76658bcd",
   "metadata": {},
   "outputs": [
    {
     "data": {
      "text/plain": [
       "<Axes: xlabel='WorldShare', ylabel='Land Area(Km²)'>"
      ]
     },
     "execution_count": 23,
     "metadata": {},
     "output_type": "execute_result"
    },
    {
     "data": {
      "image/png": "[encoded data removed]",
      "text/plain": [
       "<Figure size 640x480 with 1 Axes>"
      ]
     },
     "metadata": {},
     "output_type": "display_data"
    }
   ],
   "source": [
    "sns.regplot(x=df['WorldShare'],y=df['Land Area(Km²)'],data=df)"
   ]
  },
  {
   "cell_type": "code",
   "execution_count": 24,
   "id": "7e35e863",
   "metadata": {},
   "outputs": [
    {
     "data": {
      "text/plain": [
       "-0.8536665517851585"
      ]
     },
     "execution_count": 24,
     "metadata": {},
     "output_type": "execute_result"
    }
   ],
   "source": [
    "corelation=df['MedianAge'].corr(df['Fert.Rate'])\n",
    "corelation"
   ]
  },
  {
   "cell_type": "code",
   "execution_count": 25,
   "id": "45f90474",
   "metadata": {
    "scrolled": false
   },
   "outputs": [
    {
     "data": {
      "text/plain": [
       "<Axes: xlabel='MedianAge', ylabel='Fert.Rate'>"
      ]
     },
     "execution_count": 25,
     "metadata": {},
     "output_type": "execute_result"
    },
    {
     "data": {
      "image/png": "[encoded data removed]",
      "text/plain": [
       "<Figure size 640x480 with 1 Axes>"
      ]
     },
     "metadata": {},
     "output_type": "display_data"
    }
   ],
   "source": [
    "sns.regplot(x=df['MedianAge'],y=df['Fert.Rate'],data=df)"
   ]
  },
  {
   "cell_type": "code",
   "execution_count": 26,
   "id": "f96f8199",
   "metadata": {
    "scrolled": true
   },
   "outputs": [
    {
     "data": {
      "text/plain": [
       "Index(['Rank', 'Population2023', 'NetChange', 'Land Area(Km²)',\n",
       "       'Migrants(net)', 'Fert.Rate', 'MedianAge', 'WorldShare'],\n",
       "      dtype='object')"
      ]
     },
     "execution_count": 26,
     "metadata": {},
     "output_type": "execute_result"
    }
   ],
   "source": [
    "df.drop(columns=['UrbanPop%','Density(P/Km²)'],inplace=True,axis=1)\n",
    "df.columns"
   ]
  },
  {
   "cell_type": "markdown",
   "id": "c536d183",
   "metadata": {},
   "source": [
    "# now creating a predictive model"
   ]
  },
  {
   "cell_type": "code",
   "execution_count": 69,
   "id": "5fc79aaf",
   "metadata": {
    "scrolled": true
   },
   "outputs": [
    {
     "data": {
      "text/plain": [
       "1.2344795632529044"
      ]
     },
     "execution_count": 69,
     "metadata": {},
     "output_type": "execute_result"
    }
   ],
   "source": [
    "x=df[['MedianAge']]\n",
    "#X=df[[ 'Population2023','Land Area(Km²)', 'Migrants(net)', 'Fert.Rate' ]]\n",
    "y=df['Fert.Rate']\n",
    "\n",
    "\n",
    "X_train,X_test,y_train,y_test = train_test_split(X,y,test_size=0.05)\n",
    "\n",
    "model=LinearRegression()\n",
    "model.fit(X_train,y_train)\n",
    "predictions=model.predict(X_test)\n",
    "\n",
    "from sklearn.metrics import mean_squared_error\n",
    "mean_squared_error(y_test,predictions)"
   ]
  },
  {
   "cell_type": "code",
   "execution_count": null,
   "id": "584a3ce0",
   "metadata": {},
   "outputs": [],
   "source": []
  },
  {
   "cell_type": "markdown",
   "id": "89933ff6",
   "metadata": {},
   "source": [
    "# as we know our model is unterfitted"
   ]
  },
  {
   "cell_type": "markdown",
   "id": "e3aaf9ad",
   "metadata": {},
   "source": []
  },
  {
   "cell_type": "markdown",
   "id": "86b2587f",
   "metadata": {},
   "source": [
    "# we can use different features or columns to target the prediction which we want"
   ]
  },
  {
   "cell_type": "code",
   "execution_count": null,
   "id": "4db09d59",
   "metadata": {},
   "outputs": [],
   "source": []
  },
  {
   "cell_type": "code",
   "execution_count": null,
   "id": "c0b03a5e",
   "metadata": {},
   "outputs": [],
   "source": []
  },
  {
   "cell_type": "code",
   "execution_count": null,
   "id": "05bfa302",
   "metadata": {},
   "outputs": [],
   "source": []
  },
  {
   "cell_type": "code",
   "execution_count": null,
   "id": "9ff3e6db",
   "metadata": {},
   "outputs": [],
   "source": []
  },
  {
   "cell_type": "code",
   "execution_count": null,
   "id": "31af1031",
   "metadata": {},
   "outputs": [],
   "source": []
  },
  {
   "cell_type": "code",
   "execution_count": null,
   "id": "64f6de64",
   "metadata": {},
   "outputs": [],
   "source": []
  }
 ],
 "metadata": {
  "kernelspec": {
   "display_name": "Python 3 (ipykernel)",
   "language": "python",
   "name": "python3"
  },
  "language_info": {
   "codemirror_mode": {
    "name": "ipython",
    "version": 3
   },
   "file_extension": ".py",
   "mimetype": "text/x-python",
   "name": "python",
   "nbconvert_exporter": "python",
   "pygments_lexer": "ipython3",
   "version": "3.11.5"
  }
 },
 "nbformat": 4,
 "nbformat_minor": 5
}
