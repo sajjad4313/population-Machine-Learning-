{
 "cells": [
  {
   "cell_type": "code",
   "execution_count": 1,
   "id": "190c7e25",
   "metadata": {},
   "outputs": [],
   "source": [
    "import numpy as np\n",
    "import pandas as pd\n",
    "import seaborn as sns\n",
    "from sklearn.model_selection import train_test_split\n",
    "from sklearn.linear_model import LinearRegression\n",
    "import matplotlib.pyplot as plt\n",
    "get_ipython().run_line_magic('matplotlib', 'inline')"
   ]
  },
  {
   "cell_type": "code",
   "execution_count": 2,
   "id": "eed5894f",
   "metadata": {},
   "outputs": [
    {
     "data": {
      "text/html": [
       "<div>\n",
       "<style scoped>\n",
       "    .dataframe tbody tr th:only-of-type {\n",
       "        vertical-align: middle;\n",
       "    }\n",
       "\n",
       "    .dataframe tbody tr th {\n",
       "        vertical-align: top;\n",
       "    }\n",
       "\n",
       "    .dataframe thead th {\n",
       "        text-align: right;\n",
       "    }\n",
       "</style>\n",
       "<table border=\"1\" class=\"dataframe\">\n",
       "  <thead>\n",
       "    <tr style=\"text-align: right;\">\n",
       "      <th></th>\n",
       "      <th>Rank</th>\n",
       "      <th>Country</th>\n",
       "      <th>Population2023</th>\n",
       "      <th>YearlyChange</th>\n",
       "      <th>NetChange</th>\n",
       "      <th>Density(P/Km²)</th>\n",
       "      <th>Land Area(Km²)</th>\n",
       "      <th>Migrants(net)</th>\n",
       "      <th>Fert.Rate</th>\n",
       "      <th>MedianAge</th>\n",
       "      <th>UrbanPop%</th>\n",
       "      <th>WorldShare</th>\n",
       "    </tr>\n",
       "  </thead>\n",
       "  <tbody>\n",
       "    <tr>\n",
       "      <th>0</th>\n",
       "      <td>36</td>\n",
       "      <td>Afghanistan</td>\n",
       "      <td>42239854</td>\n",
       "      <td>2.70 %</td>\n",
       "      <td>1111083</td>\n",
       "      <td>65</td>\n",
       "      <td>652860</td>\n",
       "      <td>-65846</td>\n",
       "      <td>4.4</td>\n",
       "      <td>17.0</td>\n",
       "      <td>26 %</td>\n",
       "      <td>0.53 %</td>\n",
       "    </tr>\n",
       "    <tr>\n",
       "      <th>1</th>\n",
       "      <td>138</td>\n",
       "      <td>Albania</td>\n",
       "      <td>2832439</td>\n",
       "      <td>-0.35 %</td>\n",
       "      <td>-9882</td>\n",
       "      <td>103</td>\n",
       "      <td>27400</td>\n",
       "      <td>-8000</td>\n",
       "      <td>1.4</td>\n",
       "      <td>38.0</td>\n",
       "      <td>67 %</td>\n",
       "      <td>0.04 %</td>\n",
       "    </tr>\n",
       "    <tr>\n",
       "      <th>2</th>\n",
       "      <td>34</td>\n",
       "      <td>Algeria</td>\n",
       "      <td>45606480</td>\n",
       "      <td>1.57 %</td>\n",
       "      <td>703255</td>\n",
       "      <td>19</td>\n",
       "      <td>2381740</td>\n",
       "      <td>-9999</td>\n",
       "      <td>2.8</td>\n",
       "      <td>28.0</td>\n",
       "      <td>75 %</td>\n",
       "      <td>0.57 %</td>\n",
       "    </tr>\n",
       "    <tr>\n",
       "      <th>3</th>\n",
       "      <td>212</td>\n",
       "      <td>American Samoa</td>\n",
       "      <td>43914</td>\n",
       "      <td>-0.81 %</td>\n",
       "      <td>-359</td>\n",
       "      <td>220</td>\n",
       "      <td>200</td>\n",
       "      <td>-790</td>\n",
       "      <td>2.2</td>\n",
       "      <td>29.0</td>\n",
       "      <td>N.A.</td>\n",
       "      <td>0.00 %</td>\n",
       "    </tr>\n",
       "    <tr>\n",
       "      <th>4</th>\n",
       "      <td>202</td>\n",
       "      <td>Andorra</td>\n",
       "      <td>80088</td>\n",
       "      <td>0.33 %</td>\n",
       "      <td>264</td>\n",
       "      <td>170</td>\n",
       "      <td>470</td>\n",
       "      <td>200</td>\n",
       "      <td>1.1</td>\n",
       "      <td>43.0</td>\n",
       "      <td>85 %</td>\n",
       "      <td>0.00 %</td>\n",
       "    </tr>\n",
       "    <tr>\n",
       "      <th>5</th>\n",
       "      <td>42</td>\n",
       "      <td>Angola</td>\n",
       "      <td>36684202</td>\n",
       "      <td>3.08 %</td>\n",
       "      <td>1095215</td>\n",
       "      <td>29</td>\n",
       "      <td>1246700</td>\n",
       "      <td>-1000</td>\n",
       "      <td>5.1</td>\n",
       "      <td>16.0</td>\n",
       "      <td>68 %</td>\n",
       "      <td>0.46 %</td>\n",
       "    </tr>\n",
       "    <tr>\n",
       "      <th>6</th>\n",
       "      <td>223</td>\n",
       "      <td>Anguilla</td>\n",
       "      <td>15899</td>\n",
       "      <td>0.26 %</td>\n",
       "      <td>42</td>\n",
       "      <td>177</td>\n",
       "      <td>90</td>\n",
       "      <td>0</td>\n",
       "      <td>1.3</td>\n",
       "      <td>38.0</td>\n",
       "      <td>98 %</td>\n",
       "      <td>0.00 %</td>\n",
       "    </tr>\n",
       "    <tr>\n",
       "      <th>7</th>\n",
       "      <td>200</td>\n",
       "      <td>Antigua and Barbuda</td>\n",
       "      <td>94298</td>\n",
       "      <td>0.57 %</td>\n",
       "      <td>535</td>\n",
       "      <td>214</td>\n",
       "      <td>440</td>\n",
       "      <td>0</td>\n",
       "      <td>1.6</td>\n",
       "      <td>36.0</td>\n",
       "      <td>28 %</td>\n",
       "      <td>0.00 %</td>\n",
       "    </tr>\n",
       "    <tr>\n",
       "      <th>8</th>\n",
       "      <td>33</td>\n",
       "      <td>Argentina</td>\n",
       "      <td>45773884</td>\n",
       "      <td>0.58 %</td>\n",
       "      <td>263566</td>\n",
       "      <td>17</td>\n",
       "      <td>2736690</td>\n",
       "      <td>3718</td>\n",
       "      <td>1.9</td>\n",
       "      <td>32.0</td>\n",
       "      <td>94 %</td>\n",
       "      <td>0.57 %</td>\n",
       "    </tr>\n",
       "    <tr>\n",
       "      <th>9</th>\n",
       "      <td>140</td>\n",
       "      <td>Armenia</td>\n",
       "      <td>2777970</td>\n",
       "      <td>-0.09 %</td>\n",
       "      <td>-2499</td>\n",
       "      <td>98</td>\n",
       "      <td>28470</td>\n",
       "      <td>-5000</td>\n",
       "      <td>1.6</td>\n",
       "      <td>35.0</td>\n",
       "      <td>67 %</td>\n",
       "      <td>0.03 %</td>\n",
       "    </tr>\n",
       "    <tr>\n",
       "      <th>10</th>\n",
       "      <td>197</td>\n",
       "      <td>Aruba</td>\n",
       "      <td>106277</td>\n",
       "      <td>-0.16 %</td>\n",
       "      <td>-168</td>\n",
       "      <td>590</td>\n",
       "      <td>180</td>\n",
       "      <td>157</td>\n",
       "      <td>1.2</td>\n",
       "      <td>42.0</td>\n",
       "      <td>45 %</td>\n",
       "      <td>0.00 %</td>\n",
       "    </tr>\n",
       "    <tr>\n",
       "      <th>11</th>\n",
       "      <td>55</td>\n",
       "      <td>Australia</td>\n",
       "      <td>26439111</td>\n",
       "      <td>1.00 %</td>\n",
       "      <td>261698</td>\n",
       "      <td>3</td>\n",
       "      <td>7682300</td>\n",
       "      <td>139991</td>\n",
       "      <td>1.6</td>\n",
       "      <td>38.0</td>\n",
       "      <td>86 %</td>\n",
       "      <td>0.33 %</td>\n",
       "    </tr>\n",
       "    <tr>\n",
       "      <th>12</th>\n",
       "      <td>100</td>\n",
       "      <td>Austria</td>\n",
       "      <td>8958960</td>\n",
       "      <td>0.22 %</td>\n",
       "      <td>19343</td>\n",
       "      <td>109</td>\n",
       "      <td>82409</td>\n",
       "      <td>19999</td>\n",
       "      <td>1.5</td>\n",
       "      <td>43.0</td>\n",
       "      <td>59 %</td>\n",
       "      <td>0.11 %</td>\n",
       "    </tr>\n",
       "    <tr>\n",
       "      <th>13</th>\n",
       "      <td>90</td>\n",
       "      <td>Azerbaijan</td>\n",
       "      <td>10412651</td>\n",
       "      <td>0.53 %</td>\n",
       "      <td>54577</td>\n",
       "      <td>126</td>\n",
       "      <td>82658</td>\n",
       "      <td>0</td>\n",
       "      <td>1.7</td>\n",
       "      <td>32.0</td>\n",
       "      <td>57 %</td>\n",
       "      <td>0.13 %</td>\n",
       "    </tr>\n",
       "    <tr>\n",
       "      <th>14</th>\n",
       "      <td>177</td>\n",
       "      <td>Bahamas</td>\n",
       "      <td>412623</td>\n",
       "      <td>0.64 %</td>\n",
       "      <td>2639</td>\n",
       "      <td>41</td>\n",
       "      <td>10010</td>\n",
       "      <td>1000</td>\n",
       "      <td>1.4</td>\n",
       "      <td>33.0</td>\n",
       "      <td>85 %</td>\n",
       "      <td>0.01 %</td>\n",
       "    </tr>\n",
       "  </tbody>\n",
       "</table>\n",
       "</div>"
      ],
      "text/plain": [
       "    Rank              Country  Population2023 YearlyChange  NetChange  \\\n",
       "0     36          Afghanistan        42239854       2.70 %    1111083   \n",
       "1    138              Albania         2832439      -0.35 %      -9882   \n",
       "2     34              Algeria        45606480       1.57 %     703255   \n",
       "3    212       American Samoa           43914      -0.81 %       -359   \n",
       "4    202              Andorra           80088       0.33 %        264   \n",
       "5     42               Angola        36684202       3.08 %    1095215   \n",
       "6    223             Anguilla           15899       0.26 %         42   \n",
       "7    200  Antigua and Barbuda           94298       0.57 %        535   \n",
       "8     33            Argentina        45773884       0.58 %     263566   \n",
       "9    140              Armenia         2777970      -0.09 %      -2499   \n",
       "10   197                Aruba          106277      -0.16 %       -168   \n",
       "11    55            Australia        26439111       1.00 %     261698   \n",
       "12   100              Austria         8958960       0.22 %      19343   \n",
       "13    90           Azerbaijan        10412651       0.53 %      54577   \n",
       "14   177              Bahamas          412623       0.64 %       2639   \n",
       "\n",
       "    Density(P/Km²)  Land Area(Km²)  Migrants(net)  Fert.Rate  MedianAge  \\\n",
       "0               65          652860         -65846        4.4       17.0   \n",
       "1              103           27400          -8000        1.4       38.0   \n",
       "2               19         2381740          -9999        2.8       28.0   \n",
       "3              220             200           -790        2.2       29.0   \n",
       "4              170             470            200        1.1       43.0   \n",
       "5               29         1246700          -1000        5.1       16.0   \n",
       "6              177              90              0        1.3       38.0   \n",
       "7              214             440              0        1.6       36.0   \n",
       "8               17         2736690           3718        1.9       32.0   \n",
       "9               98           28470          -5000        1.6       35.0   \n",
       "10             590             180            157        1.2       42.0   \n",
       "11               3         7682300         139991        1.6       38.0   \n",
       "12             109           82409          19999        1.5       43.0   \n",
       "13             126           82658              0        1.7       32.0   \n",
       "14              41           10010           1000        1.4       33.0   \n",
       "\n",
       "   UrbanPop% WorldShare  \n",
       "0       26 %     0.53 %  \n",
       "1       67 %     0.04 %  \n",
       "2       75 %     0.57 %  \n",
       "3       N.A.     0.00 %  \n",
       "4       85 %     0.00 %  \n",
       "5       68 %     0.46 %  \n",
       "6       98 %     0.00 %  \n",
       "7       28 %     0.00 %  \n",
       "8       94 %     0.57 %  \n",
       "9       67 %     0.03 %  \n",
       "10      45 %     0.00 %  \n",
       "11      86 %     0.33 %  \n",
       "12      59 %     0.11 %  \n",
       "13      57 %     0.13 %  \n",
       "14      85 %     0.01 %  "
      ]
     },
     "execution_count": 2,
     "metadata": {},
     "output_type": "execute_result"
    }
   ],
   "source": [
    "df=pd.read_csv('WorldPopulation2023.csv')\n",
    "df.head(15)"
   ]
  },
  {
   "cell_type": "code",
   "execution_count": 3,
   "id": "874cb1fc",
   "metadata": {},
   "outputs": [
    {
     "data": {
      "text/plain": [
       "Rank              0\n",
       "Country           0\n",
       "Population2023    0\n",
       "YearlyChange      0\n",
       "NetChange         0\n",
       "Density(P/Km²)    0\n",
       "Land Area(Km²)    0\n",
       "Migrants(net)     0\n",
       "Fert.Rate         1\n",
       "MedianAge         1\n",
       "UrbanPop%         0\n",
       "WorldShare        0\n",
       "dtype: int64"
      ]
     },
     "execution_count": 3,
     "metadata": {},
     "output_type": "execute_result"
    }
   ],
   "source": [
    "df.isnull().sum()"
   ]
  },
  {
   "cell_type": "code",
   "execution_count": 4,
   "id": "6e931d1a",
   "metadata": {},
   "outputs": [
    {
     "name": "stdout",
     "output_type": "stream",
     "text": [
      "<class 'pandas.core.frame.DataFrame'>\n",
      "RangeIndex: 234 entries, 0 to 233\n",
      "Data columns (total 12 columns):\n",
      " #   Column          Non-Null Count  Dtype  \n",
      "---  ------          --------------  -----  \n",
      " 0   Rank            234 non-null    int64  \n",
      " 1   Country         234 non-null    object \n",
      " 2   Population2023  234 non-null    int64  \n",
      " 3   YearlyChange    234 non-null    object \n",
      " 4   NetChange       234 non-null    int64  \n",
      " 5   Density(P/Km²)  234 non-null    int64  \n",
      " 6   Land Area(Km²)  234 non-null    int64  \n",
      " 7   Migrants(net)   234 non-null    int64  \n",
      " 8   Fert.Rate       233 non-null    float64\n",
      " 9   MedianAge       233 non-null    float64\n",
      " 10  UrbanPop%       234 non-null    object \n",
      " 11  WorldShare      234 non-null    object \n",
      "dtypes: float64(2), int64(6), object(4)\n",
      "memory usage: 22.1+ KB\n"
     ]
    }
   ],
   "source": [
    "df.info()"
   ]
  },
  {
   "cell_type": "code",
   "execution_count": 5,
   "id": "e6ab8fc7",
   "metadata": {},
   "outputs": [],
   "source": [
    "df['Fert.Rate'].fillna(df['Fert.Rate'].mean(),inplace=True)"
   ]
  },
  {
   "cell_type": "code",
   "execution_count": 6,
   "id": "2b057d08",
   "metadata": {},
   "outputs": [
    {
     "data": {
      "text/plain": [
       "Rank              0\n",
       "Country           0\n",
       "Population2023    0\n",
       "YearlyChange      0\n",
       "NetChange         0\n",
       "Density(P/Km²)    0\n",
       "Land Area(Km²)    0\n",
       "Migrants(net)     0\n",
       "Fert.Rate         0\n",
       "MedianAge         1\n",
       "UrbanPop%         0\n",
       "WorldShare        0\n",
       "dtype: int64"
      ]
     },
     "execution_count": 6,
     "metadata": {},
     "output_type": "execute_result"
    }
   ],
   "source": [
    "df.isnull().sum()"
   ]
  },
  {
   "cell_type": "code",
   "execution_count": 7,
   "id": "6d3b7772",
   "metadata": {},
   "outputs": [],
   "source": [
    "df=df.dropna()"
   ]
  },
  {
   "cell_type": "code",
   "execution_count": 8,
   "id": "2827e473",
   "metadata": {},
   "outputs": [
    {
     "data": {
      "text/plain": [
       "Rank              0\n",
       "Country           0\n",
       "Population2023    0\n",
       "YearlyChange      0\n",
       "NetChange         0\n",
       "Density(P/Km²)    0\n",
       "Land Area(Km²)    0\n",
       "Migrants(net)     0\n",
       "Fert.Rate         0\n",
       "MedianAge         0\n",
       "UrbanPop%         0\n",
       "WorldShare        0\n",
       "dtype: int64"
      ]
     },
     "execution_count": 8,
     "metadata": {},
     "output_type": "execute_result"
    }
   ],
   "source": [
    "df.isnull().sum()"
   ]
  },
  {
   "cell_type": "code",
   "execution_count": 9,
   "id": "4a040ce9",
   "metadata": {},
   "outputs": [
    {
     "data": {
      "text/plain": [
       "(233, 12)"
      ]
     },
     "execution_count": 9,
     "metadata": {},
     "output_type": "execute_result"
    }
   ],
   "source": [
    "df.shape"
   ]
  },
  {
   "cell_type": "code",
   "execution_count": 10,
   "id": "acf927e0",
   "metadata": {},
   "outputs": [
    {
     "data": {
      "text/plain": [
       "array(['26 ', '67 ', '75 ', 'N.A.', '85 ', '68 ', '98 ', '28 ', '94 ',\n",
       "       '67 ', '45 ', '86 ', '59 ', '57 ', '85 ', 'N.A.', '41 ', '32 ',\n",
       "       '80 ', '99 ', '48 ', '48 ', '94 ', '49 ', '69 ', '54 ', '69 ',\n",
       "       '88 ', '53 ', '80 ', '78 ', '32 ', '15 ', '67 ', '26 ', '58 ',\n",
       "       '81 ', '74 ', '95 ', '40 ', '24 ', '85 ', '65 ', '81 ', '33 ',\n",
       "       '70 ', '79 ', '82 ', '59 ', '80 ', '77 ', '65 ', '75 ', '52 ',\n",
       "       '88 ', '72 ', '75 ', '85 ', '46 ', '64 ', '41 ', '78 ', '67 ',\n",
       "       '67 ', '68 ', '31 ', '22 ', '41 ', '62 ', '59 ', '87 ', '84 ',\n",
       "       '90 ', '59 ', '85 ', '58 ', '63 ', '77 ', '57 ', 'N.A.', '86 ',\n",
       "       '89 ', '32 ', 'N.A.', '95 ', '55 ', '40 ', '45 ', '27 ', '60 ',\n",
       "       '58 ', 'N.A.', '68 ', '88 ', '36 ', '59 ', '74 ', '71 ', '64 ',\n",
       "       '55 ', '92 ', '72 ', '59 ', '94 ', '85 ', '57 ', '31 ', '56 ',\n",
       "       'N.A.', '37 ', '37 ', '69 ', '97 ', '31 ', '54 ', '82 ', '15 ',\n",
       "       '71 ', '88 ', '97 ', '40 ', '19 ', '78 ', '39 ', '44 ', '78 ',\n",
       "       'N.A.', '94 ', '61 ', '40 ', '40 ', '88 ', '71 ', '50 ', 'N.A.',\n",
       "       '67 ', '69 ', '11 ', '66 ', '40 ', '33 ', '60 ', '88 ', '22 ',\n",
       "       '92 ', '74 ', '82 ', '56 ', '17 ', '54 ', '41 ', '63 ', '60 ',\n",
       "       'N.A.', '86 ', 'N.A.', '35 ', 'N.A.', '70 ', '12 ', '67 ', '79 ',\n",
       "       '47 ', '55 ', '67 ', 'N.A.', 'N.A.', '53 ', '75 ', '18 ', '93 ',\n",
       "       '0 ', '32 ', '38 ', '19 ', '0 ', 'N.A.', '16 ', '99 ', '77 ',\n",
       "       '83 ', '52 ', '69 ', '53 ', '43 ', 'N.A.', '97 ', '51 ', '55 ',\n",
       "       '24 ', '46 ', '69 ', '82 ', '28 ', '80 ', '19 ', '58 ', '83 ',\n",
       "       '35 ', '63 ', '86 ', '75 ', '53 ', '80 ', '28 ', '38 ', '52 ',\n",
       "       '35 ', '44 ', '0 ', '24 ', '48 ', '69 ', '77 ', '52 ', '79 ',\n",
       "       '69 ', 'N.A.', '29 ', '82 ', '94 ', '85 ', '83 ', '99 ', '49 ',\n",
       "       '24 ', 'N.A.', '40 ', '0 ', '95 ', '37 ', '46 ', '37 '],\n",
       "      dtype=object)"
      ]
     },
     "execution_count": 10,
     "metadata": {},
     "output_type": "execute_result"
    }
   ],
   "source": [
    "x=df['UrbanPop%'].str.split(\"%\")\n",
    "df['UrbanPop%']=x.str[0]\n",
    "df['UrbanPop%'].values"
   ]
  },
  {
   "cell_type": "code",
   "execution_count": 11,
   "id": "d95d5b3a",
   "metadata": {
    "scrolled": true
   },
   "outputs": [
    {
     "data": {
      "text/plain": [
       "array(['0.53 ', '0.04 ', '0.57 ', '0.00 ', '0.00 ', '0.46 ', '0.00 ',\n",
       "       '0.00 ', '0.57 ', '0.03 ', '0.00 ', '0.33 ', '0.11 ', '0.13 ',\n",
       "       '0.01 ', '0.02 ', '2.15 ', '0.00 ', '0.12 ', '0.15 ', '0.01 ',\n",
       "       '0.17 ', '0.00 ', '0.01 ', '0.15 ', '0.04 ', '0.03 ', '2.69 ',\n",
       "       '0.00 ', '0.01 ', '0.08 ', '0.29 ', '0.16 ', '0.01 ', '0.21 ',\n",
       "       '0.36 ', '0.48 ', '0.00 ', '0.00 ', '0.07 ', '0.23 ', '0.24 ',\n",
       "       '17.72 ', '0.65 ', '0.01 ', '0.08 ', '0.00 ', '0.06 ', '0.05 ',\n",
       "       '0.14 ', '0.00 ', '0.02 ', '0.13 ', '0.36 ', '0.07 ', '0.01 ',\n",
       "       '0.00 ', '0.14 ', '1.27 ', '0.23 ', '1.40 ', '0.08 ', '0.02 ',\n",
       "       '0.05 ', '0.02 ', '0.02 ', '1.57 ', '0.00 ', '0.00 ', '0.01 ',\n",
       "       '0.07 ', '0.80 ', '0.00 ', '0.00 ', '0.03 ', '0.03 ', '0.05 ',\n",
       "       '1.04 ', '0.42 ', '0.00 ', '0.13 ', '0.00 ', '0.00 ', '0.00 ',\n",
       "       '0.00 ', '0.22 ', '0.18 ', '0.03 ', '0.01 ', '0.15 ', '0.13 ',\n",
       "       '0.09 ', '0.13 ', '0.00 ', '17.76 ', '3.45 ', '1.11 ', '0.57 ',\n",
       "       '0.06 ', '0.00 ', '0.11 ', '0.73 ', '0.04 ', '1.53 ', '0.14 ',\n",
       "       '0.24 ', '0.68 ', '0.00 ', '0.05 ', '0.08 ', '0.09 ', '0.02 ',\n",
       "       '0.07 ', '0.03 ', '0.07 ', '0.09 ', '0.00 ', '0.03 ', '0.01 ',\n",
       "       '0.01 ', '0.38 ', '0.26 ', '0.43 ', '0.01 ', '0.29 ', '0.01 ',\n",
       "       '0.00 ', '0.00 ', '0.06 ', '0.02 ', '0.00 ', '1.60 ', '0.01 ',\n",
       "       '0.04 ', '0.00 ', '0.04 ', '0.01 ', '0.00 ', '0.47 ', '0.42 ',\n",
       "       '0.68 ', '0.03 ', '0.00 ', '0.38 ', '0.22 ', '0.00 ', '0.06 ',\n",
       "       '0.09 ', '0.34 ', '2.78 ', '0.00 ', '0.33 ', '0.03 ', '0.00 ',\n",
       "       '0.07 ', '0.06 ', '2.99 ', '0.00 ', '0.06 ', '0.13 ', '0.09 ',\n",
       "       '0.43 ', '1.46 ', '0.51 ', '0.13 ', '0.04 ', '0.03 ', '0.25 ',\n",
       "       '1.80 ', '0.18 ', '0.01 ', '0.00 ', '0.00 ', '0.00 ', '0.00 ',\n",
       "       '0.00 ', '0.00 ', '0.00 ', '0.00 ', '0.00 ', '0.46 ', '0.22 ',\n",
       "       '0.09 ', '0.00 ', '0.11 ', '0.07 ', '0.00 ', '0.07 ', '0.03 ',\n",
       "       '0.01 ', '0.23 ', '0.75 ', '0.64 ', '0.14 ', '0.59 ', '0.27 ',\n",
       "       '0.00 ', '0.07 ', '0.60 ', '0.01 ', '0.13 ', '0.11 ', '0.29 ',\n",
       "       '0.30 ', '0.13 ', '0.84 ', '0.89 ', '0.02 ', '0.11 ', '0.00 ',\n",
       "       '0.00 ', '0.02 ', '0.15 ', '1.07 ', '0.08 ', '0.00 ', '0.00 ',\n",
       "       '0.00 ', '0.60 ', '0.46 ', '0.12 ', '0.84 ', '4.23 ', '0.04 ',\n",
       "       '0.44 ', '0.00 ', '0.36 ', '1.23 ', '0.00 ', '0.01 ', '0.43 ',\n",
       "       '0.26 ', '0.21 '], dtype=object)"
      ]
     },
     "execution_count": 11,
     "metadata": {},
     "output_type": "execute_result"
    }
   ],
   "source": [
    "x=df['WorldShare'].str.split(\"%\")\n",
    "df['WorldShare']=x.str[0]\n",
    "df['WorldShare'].values"
   ]
  },
  {
   "cell_type": "code",
   "execution_count": 12,
   "id": "e5600edc",
   "metadata": {},
   "outputs": [],
   "source": [
    "\n",
    "df['UrbanPop%'].replace('N.A.','0',inplace=True)\n",
    " "
   ]
  },
  {
   "cell_type": "code",
   "execution_count": 13,
   "id": "4dfe80c1",
   "metadata": {},
   "outputs": [
    {
     "data": {
      "text/plain": [
       "array(['26 ', '67 ', '75 ', '0', '85 ', '68 ', '98 ', '28 ', '94 ', '67 ',\n",
       "       '45 ', '86 ', '59 ', '57 ', '85 ', '0', '41 ', '32 ', '80 ', '99 ',\n",
       "       '48 ', '48 ', '94 ', '49 ', '69 ', '54 ', '69 ', '88 ', '53 ',\n",
       "       '80 ', '78 ', '32 ', '15 ', '67 ', '26 ', '58 ', '81 ', '74 ',\n",
       "       '95 ', '40 ', '24 ', '85 ', '65 ', '81 ', '33 ', '70 ', '79 ',\n",
       "       '82 ', '59 ', '80 ', '77 ', '65 ', '75 ', '52 ', '88 ', '72 ',\n",
       "       '75 ', '85 ', '46 ', '64 ', '41 ', '78 ', '67 ', '67 ', '68 ',\n",
       "       '31 ', '22 ', '41 ', '62 ', '59 ', '87 ', '84 ', '90 ', '59 ',\n",
       "       '85 ', '58 ', '63 ', '77 ', '57 ', '0', '86 ', '89 ', '32 ', '0',\n",
       "       '95 ', '55 ', '40 ', '45 ', '27 ', '60 ', '58 ', '0', '68 ', '88 ',\n",
       "       '36 ', '59 ', '74 ', '71 ', '64 ', '55 ', '92 ', '72 ', '59 ',\n",
       "       '94 ', '85 ', '57 ', '31 ', '56 ', '0', '37 ', '37 ', '69 ', '97 ',\n",
       "       '31 ', '54 ', '82 ', '15 ', '71 ', '88 ', '97 ', '40 ', '19 ',\n",
       "       '78 ', '39 ', '44 ', '78 ', '0', '94 ', '61 ', '40 ', '40 ', '88 ',\n",
       "       '71 ', '50 ', '0', '67 ', '69 ', '11 ', '66 ', '40 ', '33 ', '60 ',\n",
       "       '88 ', '22 ', '92 ', '74 ', '82 ', '56 ', '17 ', '54 ', '41 ',\n",
       "       '63 ', '60 ', '0', '86 ', '0', '35 ', '0', '70 ', '12 ', '67 ',\n",
       "       '79 ', '47 ', '55 ', '67 ', '0', '0', '53 ', '75 ', '18 ', '93 ',\n",
       "       '0 ', '32 ', '38 ', '19 ', '0 ', '0', '16 ', '99 ', '77 ', '83 ',\n",
       "       '52 ', '69 ', '53 ', '43 ', '0', '97 ', '51 ', '55 ', '24 ', '46 ',\n",
       "       '69 ', '82 ', '28 ', '80 ', '19 ', '58 ', '83 ', '35 ', '63 ',\n",
       "       '86 ', '75 ', '53 ', '80 ', '28 ', '38 ', '52 ', '35 ', '44 ',\n",
       "       '0 ', '24 ', '48 ', '69 ', '77 ', '52 ', '79 ', '69 ', '0', '29 ',\n",
       "       '82 ', '94 ', '85 ', '83 ', '99 ', '49 ', '24 ', '0', '40 ', '0 ',\n",
       "       '95 ', '37 ', '46 ', '37 '], dtype=object)"
      ]
     },
     "execution_count": 13,
     "metadata": {},
     "output_type": "execute_result"
    }
   ],
   "source": [
    "df['UrbanPop%'].values"
   ]
  },
  {
   "cell_type": "code",
   "execution_count": 14,
   "id": "13400785",
   "metadata": {},
   "outputs": [],
   "source": [
    "df['WorldShare']=df['WorldShare'].astype(float)\n",
    "df['UrbanPop%']=df['UrbanPop%'].astype(float)"
   ]
  },
  {
   "cell_type": "code",
   "execution_count": 15,
   "id": "d3dbe3ee",
   "metadata": {},
   "outputs": [],
   "source": [
    "df.drop('Country',axis=1,inplace=True)\n",
    "df.drop('YearlyChange',axis=1,inplace=True)"
   ]
  },
  {
   "cell_type": "code",
   "execution_count": 16,
   "id": "57f6ee31",
   "metadata": {},
   "outputs": [
    {
     "name": "stdout",
     "output_type": "stream",
     "text": [
      "<class 'pandas.core.frame.DataFrame'>\n",
      "Index: 233 entries, 0 to 233\n",
      "Data columns (total 10 columns):\n",
      " #   Column          Non-Null Count  Dtype  \n",
      "---  ------          --------------  -----  \n",
      " 0   Rank            233 non-null    int64  \n",
      " 1   Population2023  233 non-null    int64  \n",
      " 2   NetChange       233 non-null    int64  \n",
      " 3   Density(P/Km²)  233 non-null    int64  \n",
      " 4   Land Area(Km²)  233 non-null    int64  \n",
      " 5   Migrants(net)   233 non-null    int64  \n",
      " 6   Fert.Rate       233 non-null    float64\n",
      " 7   MedianAge       233 non-null    float64\n",
      " 8   UrbanPop%       233 non-null    float64\n",
      " 9   WorldShare      233 non-null    float64\n",
      "dtypes: float64(4), int64(6)\n",
      "memory usage: 20.0 KB\n"
     ]
    }
   ],
   "source": [
    "df.info()"
   ]
  },
  {
   "cell_type": "code",
   "execution_count": 17,
   "id": "2d0967f3",
   "metadata": {
    "scrolled": true
   },
   "outputs": [
    {
     "data": {
      "text/html": [
       "<div>\n",
       "<style scoped>\n",
       "    .dataframe tbody tr th:only-of-type {\n",
       "        vertical-align: middle;\n",
       "    }\n",
       "\n",
       "    .dataframe tbody tr th {\n",
       "        vertical-align: top;\n",
       "    }\n",
       "\n",
       "    .dataframe thead th {\n",
       "        text-align: right;\n",
       "    }\n",
       "</style>\n",
       "<table border=\"1\" class=\"dataframe\">\n",
       "  <thead>\n",
       "    <tr style=\"text-align: right;\">\n",
       "      <th></th>\n",
       "      <th>Rank</th>\n",
       "      <th>Population2023</th>\n",
       "      <th>NetChange</th>\n",
       "      <th>Density(P/Km²)</th>\n",
       "      <th>Land Area(Km²)</th>\n",
       "      <th>Migrants(net)</th>\n",
       "      <th>Fert.Rate</th>\n",
       "      <th>MedianAge</th>\n",
       "      <th>UrbanPop%</th>\n",
       "      <th>WorldShare</th>\n",
       "    </tr>\n",
       "  </thead>\n",
       "  <tbody>\n",
       "    <tr>\n",
       "      <th>Rank</th>\n",
       "      <td>1.000000</td>\n",
       "      <td>-0.360130</td>\n",
       "      <td>-0.398503</td>\n",
       "      <td>0.121130</td>\n",
       "      <td>-0.392176</td>\n",
       "      <td>-0.006075</td>\n",
       "      <td>-0.232427</td>\n",
       "      <td>0.260929</td>\n",
       "      <td>-0.140351</td>\n",
       "      <td>-0.360361</td>\n",
       "    </tr>\n",
       "    <tr>\n",
       "      <th>Population2023</th>\n",
       "      <td>-0.360130</td>\n",
       "      <td>1.000000</td>\n",
       "      <td>0.620984</td>\n",
       "      <td>-0.024989</td>\n",
       "      <td>0.451570</td>\n",
       "      <td>-0.169401</td>\n",
       "      <td>-0.035498</td>\n",
       "      <td>-0.009930</td>\n",
       "      <td>0.012574</td>\n",
       "      <td>0.999999</td>\n",
       "    </tr>\n",
       "    <tr>\n",
       "      <th>NetChange</th>\n",
       "      <td>-0.398503</td>\n",
       "      <td>0.620984</td>\n",
       "      <td>1.000000</td>\n",
       "      <td>-0.031632</td>\n",
       "      <td>0.170647</td>\n",
       "      <td>-0.301640</td>\n",
       "      <td>0.268418</td>\n",
       "      <td>-0.284370</td>\n",
       "      <td>-0.120987</td>\n",
       "      <td>0.621024</td>\n",
       "    </tr>\n",
       "    <tr>\n",
       "      <th>Density(P/Km²)</th>\n",
       "      <td>0.121130</td>\n",
       "      <td>-0.024989</td>\n",
       "      <td>-0.031632</td>\n",
       "      <td>1.000000</td>\n",
       "      <td>-0.058659</td>\n",
       "      <td>-0.003889</td>\n",
       "      <td>-0.119682</td>\n",
       "      <td>0.200981</td>\n",
       "      <td>-0.096689</td>\n",
       "      <td>-0.025041</td>\n",
       "    </tr>\n",
       "    <tr>\n",
       "      <th>Land Area(Km²)</th>\n",
       "      <td>-0.392176</td>\n",
       "      <td>0.451570</td>\n",
       "      <td>0.170647</td>\n",
       "      <td>-0.058659</td>\n",
       "      <td>1.000000</td>\n",
       "      <td>0.087934</td>\n",
       "      <td>-0.021915</td>\n",
       "      <td>0.020464</td>\n",
       "      <td>0.150037</td>\n",
       "      <td>0.451720</td>\n",
       "    </tr>\n",
       "    <tr>\n",
       "      <th>Migrants(net)</th>\n",
       "      <td>-0.006075</td>\n",
       "      <td>-0.169401</td>\n",
       "      <td>-0.301640</td>\n",
       "      <td>-0.003889</td>\n",
       "      <td>0.087934</td>\n",
       "      <td>1.000000</td>\n",
       "      <td>-0.057052</td>\n",
       "      <td>0.099523</td>\n",
       "      <td>0.082678</td>\n",
       "      <td>-0.169306</td>\n",
       "    </tr>\n",
       "    <tr>\n",
       "      <th>Fert.Rate</th>\n",
       "      <td>-0.232427</td>\n",
       "      <td>-0.035498</td>\n",
       "      <td>0.268418</td>\n",
       "      <td>-0.119682</td>\n",
       "      <td>-0.021915</td>\n",
       "      <td>-0.057052</td>\n",
       "      <td>1.000000</td>\n",
       "      <td>-0.853667</td>\n",
       "      <td>-0.271710</td>\n",
       "      <td>-0.035411</td>\n",
       "    </tr>\n",
       "    <tr>\n",
       "      <th>MedianAge</th>\n",
       "      <td>0.260929</td>\n",
       "      <td>-0.009930</td>\n",
       "      <td>-0.284370</td>\n",
       "      <td>0.200981</td>\n",
       "      <td>0.020464</td>\n",
       "      <td>0.099523</td>\n",
       "      <td>-0.853667</td>\n",
       "      <td>1.000000</td>\n",
       "      <td>0.216558</td>\n",
       "      <td>-0.010099</td>\n",
       "    </tr>\n",
       "    <tr>\n",
       "      <th>UrbanPop%</th>\n",
       "      <td>-0.140351</td>\n",
       "      <td>0.012574</td>\n",
       "      <td>-0.120987</td>\n",
       "      <td>-0.096689</td>\n",
       "      <td>0.150037</td>\n",
       "      <td>0.082678</td>\n",
       "      <td>-0.271710</td>\n",
       "      <td>0.216558</td>\n",
       "      <td>1.000000</td>\n",
       "      <td>0.012704</td>\n",
       "    </tr>\n",
       "    <tr>\n",
       "      <th>WorldShare</th>\n",
       "      <td>-0.360361</td>\n",
       "      <td>0.999999</td>\n",
       "      <td>0.621024</td>\n",
       "      <td>-0.025041</td>\n",
       "      <td>0.451720</td>\n",
       "      <td>-0.169306</td>\n",
       "      <td>-0.035411</td>\n",
       "      <td>-0.010099</td>\n",
       "      <td>0.012704</td>\n",
       "      <td>1.000000</td>\n",
       "    </tr>\n",
       "  </tbody>\n",
       "</table>\n",
       "</div>"
      ],
      "text/plain": [
       "                    Rank  Population2023  NetChange  Density(P/Km²)  \\\n",
       "Rank            1.000000       -0.360130  -0.398503        0.121130   \n",
       "Population2023 -0.360130        1.000000   0.620984       -0.024989   \n",
       "NetChange      -0.398503        0.620984   1.000000       -0.031632   \n",
       "Density(P/Km²)  0.121130       -0.024989  -0.031632        1.000000   \n",
       "Land Area(Km²) -0.392176        0.451570   0.170647       -0.058659   \n",
       "Migrants(net)  -0.006075       -0.169401  -0.301640       -0.003889   \n",
       "Fert.Rate      -0.232427       -0.035498   0.268418       -0.119682   \n",
       "MedianAge       0.260929       -0.009930  -0.284370        0.200981   \n",
       "UrbanPop%      -0.140351        0.012574  -0.120987       -0.096689   \n",
       "WorldShare     -0.360361        0.999999   0.621024       -0.025041   \n",
       "\n",
       "                Land Area(Km²)  Migrants(net)  Fert.Rate  MedianAge  \\\n",
       "Rank                 -0.392176      -0.006075  -0.232427   0.260929   \n",
       "Population2023        0.451570      -0.169401  -0.035498  -0.009930   \n",
       "NetChange             0.170647      -0.301640   0.268418  -0.284370   \n",
       "Density(P/Km²)       -0.058659      -0.003889  -0.119682   0.200981   \n",
       "Land Area(Km²)        1.000000       0.087934  -0.021915   0.020464   \n",
       "Migrants(net)         0.087934       1.000000  -0.057052   0.099523   \n",
       "Fert.Rate            -0.021915      -0.057052   1.000000  -0.853667   \n",
       "MedianAge             0.020464       0.099523  -0.853667   1.000000   \n",
       "UrbanPop%             0.150037       0.082678  -0.271710   0.216558   \n",
       "WorldShare            0.451720      -0.169306  -0.035411  -0.010099   \n",
       "\n",
       "                UrbanPop%  WorldShare  \n",
       "Rank            -0.140351   -0.360361  \n",
       "Population2023   0.012574    0.999999  \n",
       "NetChange       -0.120987    0.621024  \n",
       "Density(P/Km²)  -0.096689   -0.025041  \n",
       "Land Area(Km²)   0.150037    0.451720  \n",
       "Migrants(net)    0.082678   -0.169306  \n",
       "Fert.Rate       -0.271710   -0.035411  \n",
       "MedianAge        0.216558   -0.010099  \n",
       "UrbanPop%        1.000000    0.012704  \n",
       "WorldShare       0.012704    1.000000  "
      ]
     },
     "execution_count": 17,
     "metadata": {},
     "output_type": "execute_result"
    }
   ],
   "source": [
    "df.corr()"
   ]
  },
  {
   "cell_type": "code",
   "execution_count": 18,
   "id": "afeeeede",
   "metadata": {},
   "outputs": [
    {
     "data": {
      "text/plain": [
       "0.620983609549096"
      ]
     },
     "execution_count": 18,
     "metadata": {},
     "output_type": "execute_result"
    }
   ],
   "source": [
    "corelation=df['Population2023'].corr(df['NetChange'])\n",
    "corelation"
   ]
  },
  {
   "cell_type": "code",
   "execution_count": 19,
   "id": "d5b7dd93",
   "metadata": {},
   "outputs": [
    {
     "data": {
      "text/plain": [
       "<Axes: xlabel='Population2023', ylabel='NetChange'>"
      ]
     },
     "execution_count": 19,
     "metadata": {},
     "output_type": "execute_result"
    },
    {
     "data": {
      "image/png": "[encoded data removed]",
      "text/plain": [
       "<Figure size 640x480 with 1 Axes>"
      ]
     },
     "metadata": {},
     "output_type": "display_data"
    }
   ],
   "source": [
    "sns.regplot(x=df['Population2023'],y=df['NetChange'],data=df)"
   ]
  },
  {
   "cell_type": "code",
   "execution_count": 20,
   "id": "cebec6e9",
   "metadata": {
    "scrolled": true
   },
   "outputs": [
    {
     "data": {
      "text/plain": [
       "0.4515702230663885"
      ]
     },
     "execution_count": 20,
     "metadata": {},
     "output_type": "execute_result"
    }
   ],
   "source": [
    "corelation=df['Population2023'].corr(df['Land Area(Km²)'])\n",
    "corelation"
   ]
  },
  {
   "cell_type": "code",
   "execution_count": 21,
   "id": "a0b6614f",
   "metadata": {},
   "outputs": [
    {
     "data": {
      "text/plain": [
       "<Axes: xlabel='Population2023', ylabel='Land Area(Km²)'>"
      ]
     },
     "execution_count": 21,
     "metadata": {},
     "output_type": "execute_result"
    },
    {
     "data": {
      "image/png": "[encoded data removed]",
      "text/plain": [
       "<Figure size 640x480 with 1 Axes>"
      ]
     },
     "metadata": {},
     "output_type": "display_data"
    }
   ],
   "source": [
    "sns.regplot(x=df['Population2023'],y=df['Land Area(Km²)'],data=df)"
   ]
  },
  {
   "cell_type": "code",
   "execution_count": 22,
   "id": "376b15cd",
   "metadata": {},
   "outputs": [
    {
     "data": {
      "text/plain": [
       "0.9999986965817584"
      ]
     },
     "execution_count": 22,
     "metadata": {},
     "output_type": "execute_result"
    }
   ],
   "source": [
    "corelation=df['Population2023'].corr(df['WorldShare'])\n",
    "corelation"
   ]
  },
  {
   "cell_type": "code",
   "execution_count": 23,
   "id": "0dd96858",
   "metadata": {},
   "outputs": [
    {
     "data": {
      "text/plain": [
       "<Axes: xlabel='Population2023', ylabel='WorldShare'>"
      ]
     },
     "execution_count": 23,
     "metadata": {},
     "output_type": "execute_result"
    },
    {
     "data": {
      "image/png": "[encoded data removed]",
      "text/plain": [
       "<Figure size 640x480 with 1 Axes>"
      ]
     },
     "metadata": {},
     "output_type": "display_data"
    }
   ],
   "source": [
    "sns.regplot(x=df['Population2023'],y=df['WorldShare'],data=df)"
   ]
  },
  {
   "cell_type": "code",
   "execution_count": 24,
   "id": "e15c30fe",
   "metadata": {},
   "outputs": [
    {
     "data": {
      "text/plain": [
       "0.4517200464625122"
      ]
     },
     "execution_count": 24,
     "metadata": {},
     "output_type": "execute_result"
    }
   ],
   "source": [
    "corelation=df['Land Area(Km²)'].corr(df['WorldShare'])\n",
    "corelation"
   ]
  },
  {
   "cell_type": "code",
   "execution_count": 25,
   "id": "76658bcd",
   "metadata": {},
   "outputs": [
    {
     "data": {
      "text/plain": [
       "<Axes: xlabel='WorldShare', ylabel='Land Area(Km²)'>"
      ]
     },
     "execution_count": 25,
     "metadata": {},
     "output_type": "execute_result"
    },
    {
     "data": {
      "image/png": "[encoded data removed]",
      "text/plain": [
       "<Figure size 640x480 with 1 Axes>"
      ]
     },
     "metadata": {},
     "output_type": "display_data"
    }
   ],
   "source": [
    "sns.regplot(x=df['WorldShare'],y=df['Land Area(Km²)'],data=df)"
   ]
  },
  {
   "cell_type": "code",
   "execution_count": 26,
   "id": "7e35e863",
   "metadata": {},
   "outputs": [
    {
     "data": {
      "text/plain": [
       "-0.8536665517851585"
      ]
     },
     "execution_count": 26,
     "metadata": {},
     "output_type": "execute_result"
    }
   ],
   "source": [
    "corelation=df['MedianAge'].corr(df['Fert.Rate'])\n",
    "corelation"
   ]
  },
  {
   "cell_type": "code",
   "execution_count": 27,
   "id": "45f90474",
   "metadata": {
    "scrolled": false
   },
   "outputs": [
    {
     "data": {
      "text/plain": [
       "<Axes: xlabel='MedianAge', ylabel='Fert.Rate'>"
      ]
     },
     "execution_count": 27,
     "metadata": {},
     "output_type": "execute_result"
    },
    {
     "data": {
      "image/png": "[encoded data removed]",
      "text/plain": [
       "<Figure size 640x480 with 1 Axes>"
      ]
     },
     "metadata": {},
     "output_type": "display_data"
    }
   ],
   "source": [
    "sns.regplot(x=df['MedianAge'],y=df['Fert.Rate'],data=df)"
   ]
  },
  {
   "cell_type": "code",
   "execution_count": 28,
   "id": "f96f8199",
   "metadata": {
    "scrolled": true
   },
   "outputs": [
    {
     "data": {
      "text/plain": [
       "Index(['Rank', 'Population2023', 'NetChange', 'Density(P/Km²)',\n",
       "       'Land Area(Km²)', 'Migrants(net)', 'Fert.Rate', 'MedianAge',\n",
       "       'UrbanPop%', 'WorldShare'],\n",
       "      dtype='object')"
      ]
     },
     "execution_count": 28,
     "metadata": {},
     "output_type": "execute_result"
    }
   ],
   "source": [
    "df.columns\n"
   ]
  },
  {
   "cell_type": "markdown",
   "id": "c536d183",
   "metadata": {},
   "source": [
    "# now creating a predictive model"
   ]
  },
  {
   "cell_type": "code",
   "execution_count": 41,
   "id": "5fc79aaf",
   "metadata": {},
   "outputs": [
    {
     "data": {
      "text/plain": [
       "<function matplotlib.pyplot.show(close=None, block=None)>"
      ]
     },
     "execution_count": 41,
     "metadata": {},
     "output_type": "execute_result"
    },
    {
     "data": {
      "image/png": "[encoded data removed]",
      "text/plain": [
       "<Figure size 640x480 with 1 Axes>"
      ]
     },
     "metadata": {},
     "output_type": "display_data"
    }
   ],
   "source": [
    "X=df[[ 'Population2023','NetChange','Land Area(Km²)', 'Migrants(net)', 'Fert.Rate', 'WorldShare']]\n",
    "y=df['Population2023']\n",
    "\n",
    "\n",
    "X_train,X_test,y_train,y_test = train_test_split(X,y,test_size=0.2)\n",
    "\n",
    "model=LinearRegression()\n",
    "model.fit(X_train,y_train)\n",
    "\n",
    "train_score = model.score(X_train,y_train)\n",
    "test_score=model.score(X_test,y_test)\n",
    "\n",
    "predictions=model.predict(X_test)\n",
    "\n",
    "plt.scatter(y_test,predictions)\n",
    "plt.xlabel('Actual values')\n",
    "plt.ylabel('predictive values')\n",
    "plt.title('actual vs prediction')\n",
    "plt.show"
   ]
  },
  {
   "cell_type": "markdown",
   "id": "86b2587f",
   "metadata": {},
   "source": [
    "# we can use different features or columns to target the prediction which we want"
   ]
  },
  {
   "cell_type": "code",
   "execution_count": null,
   "id": "4db09d59",
   "metadata": {},
   "outputs": [],
   "source": []
  },
  {
   "cell_type": "code",
   "execution_count": null,
   "id": "c0b03a5e",
   "metadata": {},
   "outputs": [],
   "source": []
  },
  {
   "cell_type": "code",
   "execution_count": null,
   "id": "05bfa302",
   "metadata": {},
   "outputs": [],
   "source": []
  },
  {
   "cell_type": "code",
   "execution_count": null,
   "id": "9ff3e6db",
   "metadata": {},
   "outputs": [],
   "source": []
  },
  {
   "cell_type": "code",
   "execution_count": null,
   "id": "31af1031",
   "metadata": {},
   "outputs": [],
   "source": []
  },
  {
   "cell_type": "code",
   "execution_count": null,
   "id": "64f6de64",
   "metadata": {},
   "outputs": [],
   "source": []
  }
 ],
 "metadata": {
  "kernelspec": {
   "display_name": "Python 3 (ipykernel)",
   "language": "python",
   "name": "python3"
  },
  "language_info": {
   "codemirror_mode": {
    "name": "ipython",
    "version": 3
   },
   "file_extension": ".py",
   "mimetype": "text/x-python",
   "name": "python",
   "nbconvert_exporter": "python",
   "pygments_lexer": "ipython3",
   "version": "3.11.5"
  }
 },
 "nbformat": 4,
 "nbformat_minor": 5
}
